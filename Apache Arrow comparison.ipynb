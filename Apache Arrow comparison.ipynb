{
 "cells": [
  {
   "cell_type": "markdown",
   "id": "6d61fe61",
   "metadata": {},
   "source": [
    "A Python notebook that demonstrates, documents and benchmarks the value of using Apache Arrow to read in a large (5Gb) CSV file of years of historic environmental monitoring sample data (available from https://pub.data.gov.bc.ca/datasets/949f2233-9612-4b06-92a9-903e817da659/ems_sample_results_historic_expanded.zip) and compute the mean Result from all measurements of the Parameter “Chromium Total” where the units were recorded in mg/L. \n",
    "\n",
    "- working solution reads file and computes correct mean,\n",
    "- provides indication of file sizes, read and compute times – with and without Arrow,\n",
    "- solution briefly explains Apache Arrow and documents value."
   ]
  },
  {
   "cell_type": "markdown",
   "id": "2bdafcb9",
   "metadata": {},
   "source": [
    "## First, we get the time to read csv file and compute mean of Result without Apach Arrow"
   ]
  },
  {
   "cell_type": "markdown",
   "id": "37485fea",
   "metadata": {},
   "source": [
    "Get the time to read the CSV file."
   ]
  },
  {
   "cell_type": "code",
   "execution_count": 1,
   "id": "ebbce1a0",
   "metadata": {},
   "outputs": [
    {
     "name": "stdout",
     "output_type": "stream",
     "text": [
      "The CSV file size is 5,322,234,734 bytes\n"
     ]
    },
    {
     "name": "stderr",
     "output_type": "stream",
     "text": [
      "/usr/local/lib/python3.9/site-packages/IPython/core/interactiveshell.py:3441: DtypeWarning: Columns (30,33,42,43,44,45,47,49,52,59) have mixed types.Specify dtype option on import or set low_memory=False.\n",
      "  exec(code_obj, self.user_global_ns, self.user_ns)\n"
     ]
    },
    {
     "name": "stdout",
     "output_type": "stream",
     "text": [
      "Reading CSV file 'ems_sample_results_historic_expanded.csv' took 213.4216649532318 seconds.\n"
     ]
    }
   ],
   "source": [
    "import time\n",
    "import os\n",
    "import pandas as pd\n",
    "\n",
    "csv_file = '/Users/raysu/Downloads/ems_sample_results_historic_expanded.csv'\n",
    "\n",
    "# Display the size of the file\n",
    "file_size = os.path.getsize(csv_file)\n",
    "print(\"The CSV file size is {:,d} bytes\".format(file_size))\n",
    "\n",
    "# Run the test for a couple times and print the average time\n",
    "read_times = []\n",
    "for i in range(2):\n",
    "    file_read_start = time.time()\n",
    "    ems_df = pd.read_csv(csv_file)\n",
    "    file_read_end = time.time()\n",
    "    read_times.append(file_read_end - file_read_start)\n",
    "    \n",
    "file_read_time = sum(read_times)/len(read_times)\n",
    "\n",
    "print(\"Reading CSV file '{}' took {} seconds.\".format(os.path.basename(csv_file), file_read_time))"
   ]
  },
  {
   "cell_type": "markdown",
   "id": "863543f6",
   "metadata": {},
   "source": [
    "Get the time to compute mean for all Chromium Total."
   ]
  },
  {
   "cell_type": "code",
   "execution_count": 2,
   "id": "3da6c9ea",
   "metadata": {
    "scrolled": true
   },
   "outputs": [
    {
     "name": "stdout",
     "output_type": "stream",
     "text": [
      "Computing the mean of 'Chromium Total' took 1.9945855935414631 seonds, and the mean is 1.5669242911547947.\n"
     ]
    },
    {
     "data": {
      "text/html": [
       "<div>\n",
       "<style scoped>\n",
       "    .dataframe tbody tr th:only-of-type {\n",
       "        vertical-align: middle;\n",
       "    }\n",
       "\n",
       "    .dataframe tbody tr th {\n",
       "        vertical-align: top;\n",
       "    }\n",
       "\n",
       "    .dataframe thead th {\n",
       "        text-align: right;\n",
       "    }\n",
       "</style>\n",
       "<table border=\"1\" class=\"dataframe\">\n",
       "  <thead>\n",
       "    <tr style=\"text-align: right;\">\n",
       "      <th></th>\n",
       "      <th>EMS_ID</th>\n",
       "      <th>PARAMETER</th>\n",
       "      <th>RESULT</th>\n",
       "    </tr>\n",
       "  </thead>\n",
       "  <tbody>\n",
       "    <tr>\n",
       "      <th>603</th>\n",
       "      <td>0190039</td>\n",
       "      <td>Chromium Total</td>\n",
       "      <td>0.02</td>\n",
       "    </tr>\n",
       "    <tr>\n",
       "      <th>701</th>\n",
       "      <td>0131140</td>\n",
       "      <td>Chromium Total</td>\n",
       "      <td>0.01</td>\n",
       "    </tr>\n",
       "    <tr>\n",
       "      <th>875</th>\n",
       "      <td>E206114</td>\n",
       "      <td>Chromium Total</td>\n",
       "      <td>0.02</td>\n",
       "    </tr>\n",
       "    <tr>\n",
       "      <th>1100</th>\n",
       "      <td>0301315</td>\n",
       "      <td>Chromium Total</td>\n",
       "      <td>0.05</td>\n",
       "    </tr>\n",
       "    <tr>\n",
       "      <th>1779</th>\n",
       "      <td>0900503</td>\n",
       "      <td>Chromium Total</td>\n",
       "      <td>0.01</td>\n",
       "    </tr>\n",
       "  </tbody>\n",
       "</table>\n",
       "</div>"
      ],
      "text/plain": [
       "       EMS_ID       PARAMETER  RESULT\n",
       "603   0190039  Chromium Total    0.02\n",
       "701   0131140  Chromium Total    0.01\n",
       "875   E206114  Chromium Total    0.02\n",
       "1100  0301315  Chromium Total    0.05\n",
       "1779  0900503  Chromium Total    0.01"
      ]
     },
     "execution_count": 2,
     "metadata": {},
     "output_type": "execute_result"
    }
   ],
   "source": [
    "compute_times = []\n",
    "result_means = set()\n",
    "\n",
    "for i in range(3):\n",
    "    compute_start = time.time()\n",
    "    ct_df = ems_df[[\"EMS_ID\", 'PARAMETER', 'RESULT']]\n",
    "    chromium_total_df = ct_df.loc[ct_df['PARAMETER'] == 'Chromium Total']\n",
    "    result_means.add(chromium_total_df['RESULT'].mean())\n",
    "    compute_end = time.time()\n",
    "    compute_times.append(compute_end - compute_start)\n",
    "    \n",
    "mean_compute_time = sum(compute_times)/len(compute_times)\n",
    "if len(result_means) == 1:\n",
    "    ct_result_mean = list(result_means)[0]\n",
    "else:\n",
    "    print(\"Unexpected things happened when calculating the mean of the Result.\")\n",
    "\n",
    "print(\"Computing the mean of 'Chromium Total' took {} seonds, and the mean is {}.\".format(mean_compute_time, ct_result_mean))\n",
    "chromium_total_df.head()"
   ]
  },
  {
   "cell_type": "markdown",
   "id": "4c57e1a6",
   "metadata": {},
   "source": [
    "## Now we try it with Apache Arrow"
   ]
  },
  {
   "cell_type": "code",
   "execution_count": 3,
   "id": "f36dc8ec",
   "metadata": {},
   "outputs": [
    {
     "name": "stdout",
     "output_type": "stream",
     "text": [
      "The CSV file size is 5,322,234,734 bytes\n",
      "Start reading EMS sample result history with Apache Arrow...\n",
      "Reading CSV file 'ems_sample_results_historic_expanded.csv' took 302.7074272632599 seconds with Apache Arrow.\n"
     ]
    }
   ],
   "source": [
    "from pyarrow import csv\n",
    "\n",
    "csv_file = '/Users/raysu/Downloads/ems_sample_results_historic_expanded.csv'\n",
    "\n",
    "# Display the size of the file\n",
    "file_size = os.path.getsize(csv_file)\n",
    "print(\"The CSV file size is {:,d} bytes\".format(file_size))\n",
    "\n",
    "print(\"Start reading EMS sample result history with Apache Arrow...\")\n",
    "\n",
    "# Run the test for 3 times and print the average time\n",
    "read_times = []\n",
    "for i in range(2):\n",
    "    file_read_start = time.time()\n",
    "    ems_table = csv.read_csv(csv_file)\n",
    "    file_read_end = time.time()\n",
    "    read_times.append(file_read_end - file_read_start)\n",
    "    \n",
    "file_read_time = sum(read_times)/len(read_times)\n",
    "\n",
    "print(\"Reading CSV file '{}' took {} seconds with Apache Arrow.\".format(os.path.basename(csv_file), file_read_time))"
   ]
  },
  {
   "cell_type": "code",
   "execution_count": 4,
   "id": "f5ae8345",
   "metadata": {},
   "outputs": [
    {
     "name": "stdout",
     "output_type": "stream",
     "text": [
      "Computing the mean of 'Chromium Total' took 41.501238425572716 seonds, and the mean is 1.5669242911547947.\n"
     ]
    }
   ],
   "source": [
    "import pyarrow.compute as pc\n",
    "\n",
    "compute_times = []\n",
    "result_means = set()\n",
    "\n",
    "for i in range(3):\n",
    "    compute_start = time.time()\n",
    "    ems_df = ems_table.select(['EMS_ID', 'PARAMETER', 'RESULT']).to_pandas()\n",
    "    ct_result_df = ems_df.loc[ems_df['PARAMETER'] == 'Chromium Total']\n",
    "    result_means.add(ct_result_df['RESULT'].mean())\n",
    "    compute_end = time.time()\n",
    "    compute_times.append(compute_end - compute_start)\n",
    "    \n",
    "mean_compute_time = sum(compute_times)/len(compute_times)\n",
    "if len(result_means) == 1:\n",
    "    ct_result_mean = list(result_means)[0]\n",
    "else:\n",
    "    print(\"Unexpected things happened when calculating the mean of the Result.\")\n",
    "\n",
    "print(\"Computing the mean of 'Chromium Total' took {} seonds, and the mean is {}.\".format(mean_compute_time, ct_result_mean))"
   ]
  },
  {
   "cell_type": "markdown",
   "id": "79640cce",
   "metadata": {},
   "source": [
    "- The CSV file used in the test has the size of 5,322,234,734 bytes.\n",
    "- Without Apache Arrow, reading the file contents into a Pandas dataframe takes ~213.42 seconds. With Apache Arrow, it  reads in the same file to a pyarrow table in ~302.71 seconds, which is roughly 41.84% slower.\n",
    "- Without Apache Arrow, computing the mean Result of the Paramenter 'Chronium Total' takes ~1.99 seconds. With Apache Arrow, it computes the mean in ~41.5 seconds, which is ~1985.43% slower. \n",
    "- The mean Result is 1.5669242911547947 mg/L.\n",
    "\n",
    "Conclusion:\n",
    "Apache Arrow does **not** seem to improve performance of reading large CSV files or the compute of Result mean. In fact, the compute time is a lot worse than without it. This may be because Apache Arrow does not support query table data at the moment. As a result, we have to convert pyarrow table to pandas dataframe before doing the calculation. Note: I did not explore iterating pyarrow table rows and do the calculation that way (seems like looping through rows is not supported.) It may worth adding a couple lines to measure the pyarrow Table to Pandas DataFrame conversion.\n",
    "\n",
    "Note: The Jupyter Notebook was running on my laptop. If running on a well resourced server, the iteration may be increased to get a better evaluation."
   ]
  }
 ],
 "metadata": {
  "kernelspec": {
   "display_name": "Python 3 (ipykernel)",
   "language": "python",
   "name": "python3"
  },
  "language_info": {
   "codemirror_mode": {
    "name": "ipython",
    "version": 3
   },
   "file_extension": ".py",
   "mimetype": "text/x-python",
   "name": "python",
   "nbconvert_exporter": "python",
   "pygments_lexer": "ipython3",
   "version": "3.9.0"
  }
 },
 "nbformat": 4,
 "nbformat_minor": 5
}
